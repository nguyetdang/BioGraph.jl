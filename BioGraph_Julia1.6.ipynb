{
 "cells": [
  {
   "cell_type": "code",
   "execution_count": null,
   "metadata": {},
   "outputs": [],
   "source": [
    "# Load packages\n",
    "using BioGraph, Cbc, BenchmarkTools"
   ]
  },
  {
   "cell_type": "code",
   "execution_count": null,
   "metadata": {},
   "outputs": [],
   "source": [
    "# Read gfa input\n",
    "@time gfa = BioGraph.read_from_gfa(\"platGB2_r426.gfa\", weight_file=\"platGB2_biograph.txt\")\n",
    ";"
   ]
  },
  {
   "cell_type": "code",
   "execution_count": null,
   "metadata": {},
   "outputs": [],
   "source": [
    "@time graph_component = find_graph_component(gfa)\n",
    ";"
   ]
  },
  {
   "cell_type": "code",
   "execution_count": null,
   "metadata": {},
   "outputs": [],
   "source": [
    "length(graph_component.graph)"
   ]
  },
  {
   "cell_type": "code",
   "execution_count": null,
   "metadata": {},
   "outputs": [],
   "source": [
    "longest_path_1 = BioGraph.find_longest_path(graph_component.graph[1], Cbc.Optimizer, is_weighted = true)"
   ]
  },
  {
   "cell_type": "code",
   "execution_count": null,
   "metadata": {},
   "outputs": [],
   "source": [
    "BioGraph.get_fasta(longest_path_1, header=\"Graph1\", outdir=\"./\")"
   ]
  },
  {
   "cell_type": "code",
   "execution_count": null,
   "metadata": {},
   "outputs": [],
   "source": [
    "longest_path_509 = BioGraph.find_longest_path(graph_component.graph[509], Cbc.Optimizer, is_weighted = true)"
   ]
  },
  {
   "cell_type": "code",
   "execution_count": null,
   "metadata": {},
   "outputs": [],
   "source": [
    "BioGraph.get_fasta(longest_path_509, header=\"Graph509\", outdir=\"./\")"
   ]
  },
  {
   "cell_type": "code",
   "execution_count": null,
   "metadata": {},
   "outputs": [],
   "source": [
    "@time for i in 1:509\n",
    "    outindex=string(\"longest_path_\", i)\n",
    "    println(string(\"Process \",string(outindex)))\n",
    "    longest_path = BioGraph.find_longest_path(graph_component.graph[i], Cbc.Optimizer, is_weighted = true)\n",
    "    BioGraph.get_fasta(longest_path, header=outindex, outdir=\"./\")\n",
    "end\n",
    ";"
   ]
  }
 ],
 "metadata": {
  "kernelspec": {
   "display_name": "Julia 1.7.2",
   "language": "julia",
   "name": "julia-1.7"
  },
  "language_info": {
   "file_extension": ".jl",
   "mimetype": "application/julia",
   "name": "julia",
   "version": "1.7.2"
  }
 },
 "nbformat": 4,
 "nbformat_minor": 4
}
